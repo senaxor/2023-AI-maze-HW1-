{
 "cells": [
  {
   "cell_type": "markdown",
   "metadata": {},
   "source": [
    "<img src='http://www-scf.usc.edu/~ghasemig/images/sharif.png' alt=\"SUT logo\" width=300 height=300 align=left class=\"saturate\" >\n",
    "\n",
    "<br>\n",
    "<font>\n",
    "<div dir=ltr align=center>\n",
    "<font color=0F5298 size=7>\n",
    "    Artificial Intelligence <br>\n",
    "<font color=2565AE size=5>\n",
    "    Computer Engineering Department <br>\n",
    "    Fall 2023<br>\n",
    "<font color=3C99D size=5>\n",
    "    Practical Assignment 1 - Search <br>\n",
    "<font color=696880 size=4>\n",
    "    Reza Soumi, Rouzbeh Pirayadi, Amir Mohammad Izadi\n",
    "\n",
    "____"
   ]
  },
  {
   "cell_type": "markdown",
   "metadata": {},
   "source": [
    "# Personal Data"
   ]
  },
  {
   "cell_type": "code",
   "execution_count": 1,
   "metadata": {},
   "outputs": [],
   "source": [
    "# Set your student number\n",
    "student_number = '99101224'\n",
    "Name = 'Vahid'\n",
    "Last_Name = 'Ansari'"
   ]
  },
  {
   "cell_type": "markdown",
   "metadata": {},
   "source": [
    "# Rules\n",
    "- Make sure that all of your cells can be run perfectly. "
   ]
  },
  {
   "cell_type": "markdown",
   "metadata": {
    "id": "Wu2gddB9nNQS"
   },
   "source": [
    "## Libraries"
   ]
  },
  {
   "cell_type": "code",
   "execution_count": 2,
   "metadata": {
    "id": "kehf-a-anNQT"
   },
   "outputs": [
    {
     "name": "stdout",
     "output_type": "stream",
     "text": [
      "pygame 2.5.2 (SDL 2.28.2, Python 3.10.12)\n",
      "Hello from the pygame community. https://www.pygame.org/contribute.html\n"
     ]
    }
   ],
   "source": [
    "import pygame, time, csv\n",
    "import numpy as np\n",
    "from time import sleep\n",
    "import heapq\n",
    "from IPython.display import HTML\n",
    "from collections import deque"
   ]
  },
  {
   "cell_type": "markdown",
   "metadata": {
    "id": "T5e96dYinNQU"
   },
   "source": [
    "# Uninformed & Informed Search (100 Points)"
   ]
  },
  {
   "cell_type": "markdown",
   "metadata": {
    "id": "JW24WwoXnNQU"
   },
   "source": [
    "<font size=4>\n",
    "Author: Reza Soumi\n",
    "\t\t\t<br/>\n",
    "                <font color=red>\n",
    "Please run all the cells.\n",
    "     </font>\n",
    "</font>\n",
    "                <br/>\n",
    "    </div>"
   ]
  },
  {
   "cell_type": "markdown",
   "metadata": {},
   "source": [
    "## Problem Definition"
   ]
  },
  {
   "cell_type": "markdown",
   "metadata": {
    "id": "taUY19uXnfCd"
   },
   "source": [
    "In This Problem, We want to investigate Maze Problem with the focus on implementing IDS and A-Star algorithm to solve it. \n",
    "\n",
    "The concept of the **Digital Twin** was first introduced in 1960 during NASA's Apollo project. In this project, many simulation engines was created in the ground where sensory data from the spacecraft was sent to simulation devices. The model would then update itself with this data and send response or action commands back to the spacecraft using advanced telecommunication protocols. This concept has recently gained popularity.\n",
    "\n",
    "If you are interested in learning more about digital twin in the Apollo NASA project, you can read this [link](https://blogs.sw.siemens.com/simcenter/apollo-13-the-first-digital-twin/) which explains how these systems helped astronauts return home safely. Additionally, there is a [TEDx](https://www.ted.com/talks/karen_willcox_how_digital_twins_could_help_us_predict_the_future?language=en) talk dedicated to this concept that you may find interesting."
   ]
  },
  {
   "cell_type": "markdown",
   "metadata": {
    "id": "VCHWcZOhn8_z"
   },
   "source": [
    "Now, let's consider a scenario where we have launched a simple spacecraft into space without any IoT devices. Unfortunately, our robot has become stuck in a maze. The starting position is at the top left corner and the destination is at the bottom right corner, as shown in the picture below."
   ]
  },
  {
   "cell_type": "markdown",
   "metadata": {},
   "source": [
    "<!-- ![Sample Image](Pics/map.PNG) -->\n",
    "<div style=\"text-align:center\">\n",
    "  <img src=\"Pics/map.PNG\" alt=\"alt text\" style=\"width:50%;\"/>\n",
    "</div>"
   ]
  },
  {
   "cell_type": "markdown",
   "metadata": {
    "id": "4d9C3ZzJovsK"
   },
   "source": [
    "To solve this problem, we need to implement an intelligent digital twin for the spacecraft. This digital twin will gather information from the spacecraft and determine which action to take - up, left, down, or right. However, we cannot explore the entire map at once and can only take one step forward at a time."
   ]
  },
  {
   "cell_type": "markdown",
   "metadata": {
    "id": "sr7-GT5tnNQW"
   },
   "source": [
    "## Code"
   ]
  },
  {
   "cell_type": "markdown",
   "metadata": {
    "id": "4GU_Byyuo0ml"
   },
   "source": [
    "You can use the following data structures, and feel free to use any other data structures as needed, but these should suffice."
   ]
  },
  {
   "cell_type": "code",
   "execution_count": 3,
   "metadata": {
    "id": "o0EfPKyIIHpW"
   },
   "outputs": [],
   "source": [
    "###########################################\n",
    "###### no need to change any thing ########\n",
    "###########################################\n",
    "\n",
    "class Node:\n",
    "    def __init__(self, pos, parent, cost=None):\n",
    "        self.x = pos[0]\n",
    "        self.y = pos[1]\n",
    "        self.parent = parent\n",
    "        self.cost = cost\n",
    "\n",
    "    def position(self):\n",
    "        return (self.x, self.y)\n",
    "\n",
    "class Queue:\n",
    "    def __init__(self):\n",
    "        self.list = []\n",
    "\n",
    "    def push(self,item):\n",
    "        self.list.insert(0,item)\n",
    "\n",
    "    def pop(self):\n",
    "        return self.list.pop()\n",
    "\n",
    "    def isEmpty(self):\n",
    "        return len(self.list) == 0\n",
    "\n",
    "class PriorityQueue:\n",
    "    \"\"\" O(1) access to the lowest-priority item \"\"\"\n",
    "    def  __init__(self):\n",
    "        self.heap = []\n",
    "        self.count = 0\n",
    "\n",
    "    def push(self, item, priority):\n",
    "        entry = (priority, self.count, item)\n",
    "        heapq.heappush(self.heap, entry)\n",
    "        self.count += 1\n",
    "\n",
    "    def pop(self):\n",
    "        (_, _, item) = heapq.heappop(self.heap)\n",
    "        return item\n",
    "\n",
    "    def isEmpty(self):\n",
    "        return len(self.heap) == 0\n",
    "\n",
    "    def update(self, item, priority):\n",
    "        # If item already in priority queue with higher priority, update its priority and rebuild the heap.\n",
    "        for index, (p, c, i) in enumerate(self.heap):\n",
    "            if i == item:\n",
    "                if p <= priority:\n",
    "                    break\n",
    "                del self.heap[index]\n",
    "                self.heap.append((priority, c, item))\n",
    "                heapq.heapify(self.heap)\n",
    "                break\n",
    "        else:\n",
    "            self.push(item, priority)\n",
    "\n",
    "class Stack:\n",
    "    def __init__(self):\n",
    "        self.list = []\n",
    "\n",
    "    def push(self,item):\n",
    "        self.list.append(item)\n",
    "\n",
    "    def pop(self):\n",
    "        return self.list.pop()\n",
    "\n",
    "    def isEmpty(self):\n",
    "        return len(self.list) == 0"
   ]
  },
  {
   "cell_type": "markdown",
   "metadata": {},
   "source": [
    "The code below takes a CSV file's path as the map address. In this CSV file, a value of 1 represents a passable block where the robot can navigate, while a value of 0 represents an impassable wall where the robot cannot go. There's no need to be concerned about Digital Twins at this point; we will implement them later."
   ]
  },
  {
   "cell_type": "code",
   "execution_count": 4,
   "metadata": {},
   "outputs": [],
   "source": [
    "###########################################\n",
    "###### no need to change any thing ########\n",
    "###########################################\n",
    "\n",
    "def solve_maze(map_address, algorithm):\n",
    "    grid = np.genfromtxt(map_address, delimiter=',', dtype=np.int32)\n",
    "    num_rows, num_columns = len(grid), len(grid[0])\n",
    "    empty_block_count = np.count_nonzero(grid == 1)\n",
    "\n",
    "    # Define start & goal positions\n",
    "    start_pos = (0,0)\n",
    "    goal_pos = (num_rows-1, num_columns-1)\n",
    "\n",
    "    grid[0, 0] = 2\n",
    "    grid[-1, -1] = 3\n",
    "\n",
    "    grid_dim = (num_rows-1, num_columns-1)\n",
    "\n",
    "    black, white, green, red, grey, blue, magenta = (0,0,0), (255, 255, 255), (50,205,50), (255,99,71), (211,211,211), (153,255,255), (255,0,255)\n",
    "    idx_to_color = [black, white, green, red, blue, magenta]\n",
    "\n",
    "    height = 15\n",
    "    width = height\n",
    "    margin = 1\n",
    "\n",
    "    pygame.init()\n",
    "\n",
    "    WINDOW_SIZE = [660, 660]\n",
    "    screen = pygame.display.set_mode(WINDOW_SIZE)\n",
    "\n",
    "    pygame.display.set_caption(f\"{algorithm} Pathfinder. Solving: {map_address}\")\n",
    "\n",
    "    done = False\n",
    "    run = False\n",
    "    close = False\n",
    "\n",
    "    clock = pygame.time.Clock()\n",
    "\n",
    "    digital_twin = None\n",
    "\n",
    "    if algorithm == \"BFS\":\n",
    "        digital_twin = BFS_Digital_Twin(start_pos=start_pos, goal_pos=goal_pos, grid_dim=grid_dim)\n",
    "    elif algorithm == \"DFS\":\n",
    "        digital_twin = DFS_Digital_Twin(start_pos=start_pos, goal_pos=goal_pos, grid_dim=grid_dim)\n",
    "    elif algorithm == \"IDS\":\n",
    "        digital_twin = IDS_Digital_Twin(start_pos=start_pos, goal_pos=goal_pos, grid_dim=grid_dim)\n",
    "    elif algorithm == \"A_Star\":\n",
    "        digital_twin = A_Star_Digital_Twin(start_pos=start_pos, goal_pos=goal_pos, grid_dim=grid_dim)\n",
    "    else:\n",
    "        return None\n",
    "    \n",
    "    while not done:\n",
    "        for event in pygame.event.get():\n",
    "            if event.type == pygame.QUIT:\n",
    "                done = True\n",
    "\n",
    "            elif event.type == pygame.KEYDOWN:\n",
    "                run = True\n",
    "                start_t0 = time.time()\n",
    "\n",
    "        screen.fill(grey)\n",
    "\n",
    "        for row in range(num_rows):\n",
    "            for column in range(num_columns):\n",
    "                color = idx_to_color[grid[row, column]]\n",
    "                pygame.draw.rect(screen, color, [(margin + width) * column + margin, (margin + height) * row + margin, width, height])\n",
    "\n",
    "        clock.tick(60)\n",
    "        pygame.display.flip()\n",
    "\n",
    "        if run == True:\n",
    "            sleep(0.01)\n",
    "            solution, done, grid = digital_twin.update(grid=grid)\n",
    "\n",
    "        if done == True:\n",
    "            print(f\"Total empty block numbers: {empty_block_count}\")\n",
    "            print(f\"Explored block numbers: {np.count_nonzero(grid == 4)}\")\n",
    "            for pos in solution:\n",
    "                grid[pos[0], pos[1]] = 5\n",
    "\n",
    "            screen.fill(grey)\n",
    "\n",
    "            for row in range(num_rows):\n",
    "                for column in range(num_columns):\n",
    "                    color = idx_to_color[grid[row, column]]\n",
    "                    pygame.draw.rect(screen, color, [(margin + width) * column + margin, (margin + height) * row + margin, width, height])\n",
    "\n",
    "            clock.tick(60)\n",
    "            pygame.display.flip()\n",
    "\n",
    "    print(f\"Your maze solved with {algorithm} algorithm.\")\n",
    "    print(f\"--- finished {time.time()-start_t0:.3f} s---\")\n",
    "    while not close:\n",
    "        for event in pygame.event.get():\n",
    "            if event.type == pygame.QUIT:\n",
    "                close = True\n",
    "\n",
    "            elif event.type == pygame.KEYDOWN:\n",
    "                close = True\n",
    "    pygame.quit()"
   ]
  },
  {
   "cell_type": "markdown",
   "metadata": {},
   "source": [
    "Below is an implementation of our digital twin using the Depth-First Search (DFS) algorithm. Take a moment to explore how it functions."
   ]
  },
  {
   "cell_type": "code",
   "execution_count": 5,
   "metadata": {
    "id": "N_Yr37xG4COX"
   },
   "outputs": [],
   "source": [
    "###########################################\n",
    "###### no need to change any thing ########\n",
    "###########################################\n",
    "\n",
    "class DFS_Digital_Twin:\n",
    "    def __init__(self, start_pos, goal_pos, grid_dim):\n",
    "        self.start_pos = start_pos\n",
    "        self.goal_pos = goal_pos\n",
    "        self.grid_dim = grid_dim\n",
    "        self.stack = Stack()\n",
    "        self.stack.push(Node(pos=start_pos, parent=None))\n",
    "\n",
    "    def get_successors(self, x, y):\n",
    "        return [(x+1, y), (x-1, y), (x, y+1), (x, y-1)]\n",
    "\n",
    "    def is_valid_cell(self, pos):\n",
    "        return 0 <= pos[0] <= self.grid_dim[0] and 0 <= pos[1] <= self.grid_dim[1]\n",
    "\n",
    "    def backtrack_solution(self, curr_node):\n",
    "        return self._backtrack(curr_node)\n",
    "\n",
    "    def _backtrack(self, curr_node):\n",
    "        return [] if curr_node.parent is None else self._backtrack(curr_node.parent) + [curr_node.position()]\n",
    "\n",
    "    def update(self, grid):\n",
    "        curr_state = self.stack.pop()\n",
    "        x, y = curr_state.position()\n",
    "        done = False\n",
    "        solution_path = []\n",
    "\n",
    "        for step in self.get_successors(x, y):\n",
    "            if self.is_valid_cell(step) and grid[step[0], step[1]] in [1, 3]: # 1: empty cell has not explored yet, 3: goal cell\n",
    "                self.stack.push(Node(pos=step, parent=curr_state))\n",
    "\n",
    "                if step == self.goal_pos:\n",
    "                    done = True\n",
    "                    solution_path = self.backtrack_solution(curr_state)\n",
    "                    break\n",
    "            \n",
    "            grid[x, y] = 4 # visited\n",
    "\n",
    "        return solution_path, done, grid\n",
    "\n"
   ]
  },
  {
   "cell_type": "markdown",
   "metadata": {},
   "source": [
    "You can run the code below to see how our exploration works (it is recommended to run it on your local machine instead of Colab)."
   ]
  },
  {
   "cell_type": "code",
   "execution_count": 6,
   "metadata": {
    "id": "OhFWaWoH4EFQ"
   },
   "outputs": [],
   "source": [
    "# solve_maze(map_address=\"mazes/maze_0.csv\", algorithm=\"DFS\")"
   ]
  },
  {
   "cell_type": "code",
   "execution_count": 7,
   "metadata": {},
   "outputs": [
    {
     "ename": "SyntaxError",
     "evalue": "invalid syntax (3103764699.py, line 1)",
     "output_type": "error",
     "traceback": [
      "\u001b[0;36m  Cell \u001b[0;32mIn[7], line 1\u001b[0;36m\u001b[0m\n\u001b[0;31m    After running the code above and entering it on the screen, you should see the result, which resembles the GIF below.\u001b[0m\n\u001b[0m          ^\u001b[0m\n\u001b[0;31mSyntaxError\u001b[0m\u001b[0;31m:\u001b[0m invalid syntax\n"
     ]
    }
   ],
   "source": [
    "After running the code above and entering it on the screen, you should see the result, which resembles the GIF below."
   ]
  },
  {
   "cell_type": "code",
   "execution_count": null,
   "metadata": {},
   "outputs": [],
   "source": [
    "gif_path = 'Pics/Animation.gif'\n",
    "html_code = f'<div style=\"display: flex; justify-content: center;\"> <img src=\"{gif_path}\" alt=\"Your GIF\" style=\"width: 40%;\"/></div>'\n",
    "HTML(html_code)"
   ]
  },
  {
   "cell_type": "markdown",
   "metadata": {},
   "source": [
    "As you can see, all of the blocks have been explored using DFS algorithm. So, we need a better algorithm for this maze problem. You can think and devise a solution for this problem at this stage before proceeding.\n",
    "\n",
    "Let's investigate other uninformed search methods. Your task now is to implement Breadth-First Search (BFS) algorithm to solve this maze problem. (Hint: You can simply just change the data structures used in the code provided above to convert DFS to BFS)"
   ]
  },
  {
   "cell_type": "code",
   "execution_count": null,
   "metadata": {
    "id": "JWLMa4_L4Hh5"
   },
   "outputs": [],
   "source": [
    "###########################################\n",
    "###### BFS implementation ########\n",
    "###########################################\n",
    "class BFS_Digital_Twin: \n",
    "    def __init__(self, start_pos, goal_pos, grid_dim): \n",
    "        self.start_pos = start_pos \n",
    "        self.goal_pos = goal_pos \n",
    "        self.grid_dim = grid_dim \n",
    "        # self.stack = Stack()\n",
    "        self.queue = deque() # Use a deque as a queue \n",
    "        self.queue.append(Node(pos=start_pos, parent=None))\n",
    "\n",
    "    def get_successors(self, x, y):\n",
    "        return [(x+1, y), (x-1, y), (x, y+1), (x, y-1)]\n",
    "\n",
    "    def is_valid_cell(self, pos):\n",
    "        return 0 <= pos[0] <= self.grid_dim[0] and 0 <= pos[1] <= self.grid_dim[1]\n",
    "    \n",
    "    def backtrack_solution(self, curr_node):\n",
    "        return self._backtrack(curr_node)\n",
    "    \n",
    "    def _backtrack(self, curr_node):\n",
    "        return [] if curr_node.parent is None else self._backtrack(curr_node.parent) + [curr_node.position()]\n",
    "    \n",
    "    def update(self, grid):\n",
    "        curr_state = self.queue.popleft() \n",
    "        x, y = curr_state.position()\n",
    "        done = False\n",
    "        solution_path = []\n",
    "    \n",
    "        for step in self.get_successors(x, y):\n",
    "            if self.is_valid_cell(step) and grid[step[0], step[1]] in [1, 3]: # 1: empty cell has not explored yet, 3: goal cell\n",
    "                self.queue.append(Node(pos=step, parent=curr_state))\n",
    "    \n",
    "                if step == self.goal_pos:\n",
    "                    done = True\n",
    "                    solution_path = self.backtrack_solution(curr_state)\n",
    "                    break\n",
    "            \n",
    "            grid[x, y] = 4 # visited\n",
    "    \n",
    "        return solution_path, done, grid"
   ]
  },
  {
   "cell_type": "markdown",
   "metadata": {},
   "source": [
    "You can run the code below to see how BFS algorithm works for solving this maze problem."
   ]
  },
  {
   "cell_type": "code",
   "execution_count": null,
   "metadata": {
    "id": "_3pHSgOowQdC"
   },
   "outputs": [
    {
     "name": "stdout",
     "output_type": "stream",
     "text": [
      "Total empty block numbers: 881\n",
      "Explored block numbers: 358\n",
      "Your maze solved with BFS algorithm.\n",
      "--- finished 3.235 s---\n"
     ]
    }
   ],
   "source": [
    "solve_maze(map_address=\"mazes/maze_0.csv\", algorithm=\"BFS\")"
   ]
  },
  {
   "cell_type": "markdown",
   "metadata": {},
   "source": [
    "It seems that BFS algorithm provides a good solution for our maze problem. Now, let's try implementing the Iterative Deepening Search (IDS) algorithm in the code below. The depth must increase incrementally (one per request to the digital twin) according to the game policy."
   ]
  },
  {
   "cell_type": "code",
   "execution_count": null,
   "metadata": {},
   "outputs": [],
   "source": [
    "########################################################\n",
    "######### implement IDS algorithm (15 Points) ##########\n",
    "########################################################\n",
    "\n",
    "class IDS_Digital_Twin:\n",
    "    def __init__(self, start_pos, goal_pos, grid_dim):\n",
    "        pass\n",
    "    \n",
    "    def update(self, grid):\n",
    "        \"\"\"\n",
    "        Input: grid (2D array)\n",
    "        Output:\n",
    "            solution_path (List of tuples, empty if no solution found)\n",
    "            done (Boolean, True if the goal is reached, False otherwise)\n",
    "            grid (Updated 2D array)\n",
    "        \"\"\"\n",
    "        pass"
   ]
  },
  {
   "cell_type": "code",
   "execution_count": null,
   "metadata": {
    "colab": {
     "base_uri": "https://localhost:8080/",
     "height": 298
    },
    "id": "RLNhKM9Hwwzf",
    "outputId": "fb24181f-1ed5-4769-9eea-04b7dba55285"
   },
   "outputs": [],
   "source": [
    "# solve_maze(map_address=\"mazes/maze_0.csv\", algorithm=\"IDS\")"
   ]
  },
  {
   "cell_type": "markdown",
   "metadata": {},
   "source": [
    "Question: \n",
    "\n",
    "So far, we have explored three uninformed search methods: DFS, BFS, and IDS. Briefly explain the advantages and disadvantages of each method in the context of the Maze Problem and compare their performance based on your observations (consider both time and memory). Suppose there is two destination points, address specific points based on this scenario."
   ]
  },
  {
   "cell_type": "markdown",
   "metadata": {},
   "source": [
    "Your Answer: (10 Points)\n"
   ]
  },
  {
   "cell_type": "markdown",
   "metadata": {},
   "source": [
    "Question:\n",
    "\n",
    "Provide a simple solution to improve the DFS algorithm's performance in terms of explored block numbers, Based on the game information."
   ]
  },
  {
   "cell_type": "markdown",
   "metadata": {},
   "source": [
    "Your Answer: (5 Points)"
   ]
  },
  {
   "cell_type": "markdown",
   "metadata": {},
   "source": [
    "Now, let's turn our attention to a second maze map, 'maze_1.csv'. solve this maze using the BFS algorithm."
   ]
  },
  {
   "cell_type": "code",
   "execution_count": 16,
   "metadata": {
    "id": "RUAboo1mxNaj"
   },
   "outputs": [
    {
     "ename": "IndexError",
     "evalue": "pop from empty list",
     "output_type": "error",
     "traceback": [
      "\u001b[0;31m---------------------------------------------------------------------------\u001b[0m",
      "\u001b[0;31mIndexError\u001b[0m                                Traceback (most recent call last)",
      "Cell \u001b[0;32mIn[16], line 1\u001b[0m\n\u001b[0;32m----> 1\u001b[0m \u001b[43msolve_maze\u001b[49m\u001b[43m(\u001b[49m\u001b[43mmap_address\u001b[49m\u001b[38;5;241;43m=\u001b[39;49m\u001b[38;5;124;43m\"\u001b[39;49m\u001b[38;5;124;43mmazes/maze_1.csv\u001b[39;49m\u001b[38;5;124;43m\"\u001b[39;49m\u001b[43m,\u001b[49m\u001b[43m \u001b[49m\u001b[43malgorithm\u001b[49m\u001b[38;5;241;43m=\u001b[39;49m\u001b[38;5;124;43m\"\u001b[39;49m\u001b[38;5;124;43mBFS\u001b[39;49m\u001b[38;5;124;43m\"\u001b[39;49m\u001b[43m)\u001b[49m\n",
      "Cell \u001b[0;32mIn[12], line 73\u001b[0m, in \u001b[0;36msolve_maze\u001b[0;34m(map_address, algorithm)\u001b[0m\n\u001b[1;32m     71\u001b[0m \u001b[38;5;28;01mif\u001b[39;00m run \u001b[38;5;241m==\u001b[39m \u001b[38;5;28;01mTrue\u001b[39;00m:\n\u001b[1;32m     72\u001b[0m     sleep(\u001b[38;5;241m0.01\u001b[39m)\n\u001b[0;32m---> 73\u001b[0m     solution, done, grid \u001b[38;5;241m=\u001b[39m \u001b[43mdigital_twin\u001b[49m\u001b[38;5;241;43m.\u001b[39;49m\u001b[43mupdate\u001b[49m\u001b[43m(\u001b[49m\u001b[43mgrid\u001b[49m\u001b[38;5;241;43m=\u001b[39;49m\u001b[43mgrid\u001b[49m\u001b[43m)\u001b[49m\n\u001b[1;32m     75\u001b[0m \u001b[38;5;28;01mif\u001b[39;00m done \u001b[38;5;241m==\u001b[39m \u001b[38;5;28;01mTrue\u001b[39;00m:\n\u001b[1;32m     76\u001b[0m     \u001b[38;5;28mprint\u001b[39m(\u001b[38;5;124mf\u001b[39m\u001b[38;5;124m\"\u001b[39m\u001b[38;5;124mTotal empty block numbers: \u001b[39m\u001b[38;5;132;01m{\u001b[39;00mempty_block_count\u001b[38;5;132;01m}\u001b[39;00m\u001b[38;5;124m\"\u001b[39m)\n",
      "Cell \u001b[0;32mIn[13], line 66\u001b[0m, in \u001b[0;36mBFS_Digital_Twin.update\u001b[0;34m(self, grid)\u001b[0m\n\u001b[1;32m     65\u001b[0m \u001b[38;5;28;01mdef\u001b[39;00m \u001b[38;5;21mupdate\u001b[39m(\u001b[38;5;28mself\u001b[39m, grid):\n\u001b[0;32m---> 66\u001b[0m     curr_state \u001b[38;5;241m=\u001b[39m \u001b[38;5;28;43mself\u001b[39;49m\u001b[38;5;241;43m.\u001b[39;49m\u001b[43mstack\u001b[49m\u001b[38;5;241;43m.\u001b[39;49m\u001b[43mpop\u001b[49m\u001b[43m(\u001b[49m\u001b[43m)\u001b[49m\n\u001b[1;32m     67\u001b[0m     x, y \u001b[38;5;241m=\u001b[39m curr_state\u001b[38;5;241m.\u001b[39mposition()\n\u001b[1;32m     68\u001b[0m     done \u001b[38;5;241m=\u001b[39m \u001b[38;5;28;01mFalse\u001b[39;00m\n",
      "Cell \u001b[0;32mIn[11], line 67\u001b[0m, in \u001b[0;36mStack.pop\u001b[0;34m(self)\u001b[0m\n\u001b[1;32m     66\u001b[0m \u001b[38;5;28;01mdef\u001b[39;00m \u001b[38;5;21mpop\u001b[39m(\u001b[38;5;28mself\u001b[39m):\n\u001b[0;32m---> 67\u001b[0m     \u001b[38;5;28;01mreturn\u001b[39;00m \u001b[38;5;28;43mself\u001b[39;49m\u001b[38;5;241;43m.\u001b[39;49m\u001b[43mlist\u001b[49m\u001b[38;5;241;43m.\u001b[39;49m\u001b[43mpop\u001b[49m\u001b[43m(\u001b[49m\u001b[43m)\u001b[49m\n",
      "\u001b[0;31mIndexError\u001b[0m: pop from empty list"
     ]
    }
   ],
   "source": [
    "# solve_maze(map_address=\"mazes/maze_1.csv\", algorithm=\"BFS\")"
   ]
  },
  {
   "cell_type": "markdown",
   "metadata": {},
   "source": [
    "As you can see, BFS may not always perform optimally, as it can end up exploring a majority of the blocks. Let's proceed by implementing the A-Star algorithm in the next cell."
   ]
  },
  {
   "cell_type": "code",
   "execution_count": null,
   "metadata": {
    "id": "V5yzYM1exNzp"
   },
   "outputs": [],
   "source": [
    "########################################################\n",
    "######### implement A* algorithm (50 Points) ###########\n",
    "########################################################\n",
    "\n",
    "class A_Star_Digital_Twin:\n",
    "    def __init__(self, start_pos, goal_pos, grid_dim):\n",
    "        pass\n",
    "    \n",
    "    def update(self, grid):\n",
    "        \"\"\"\n",
    "        Input: grid (2D array)\n",
    "        Output:\n",
    "            solution_path (List of tuples, empty if no solution found)\n",
    "            done (Boolean, True if the goal is reached, False otherwise)\n",
    "            grid (Updated 2D array)\n",
    "        \"\"\"\n",
    "        pass"
   ]
  },
  {
   "cell_type": "markdown",
   "metadata": {},
   "source": [
    "Now solve the 'maze_1.csv' with your A-star algorithm."
   ]
  },
  {
   "cell_type": "code",
   "execution_count": null,
   "metadata": {},
   "outputs": [],
   "source": [
    "# solve_maze(map_address=\"mazes/maze_1.csv\", algorithm=\"A_Star\")"
   ]
  },
  {
   "cell_type": "markdown",
   "metadata": {},
   "source": [
    "Question:\n",
    "\n",
    "Explain your heuristic and observation's result. Also, compare the A* method with Uniformed search in the context of the Maze problem."
   ]
  },
  {
   "cell_type": "markdown",
   "metadata": {},
   "source": [
    "Answer: \n"
   ]
  },
  {
   "cell_type": "code",
   "execution_count": null,
   "metadata": {},
   "outputs": [],
   "source": []
  }
 ],
 "metadata": {
  "colab": {
   "provenance": []
  },
  "kernelspec": {
   "display_name": "Python 3 (ipykernel)",
   "language": "python",
   "name": "python3"
  },
  "language_info": {
   "codemirror_mode": {
    "name": "ipython",
    "version": 3
   },
   "file_extension": ".py",
   "mimetype": "text/x-python",
   "name": "python",
   "nbconvert_exporter": "python",
   "pygments_lexer": "ipython3",
   "version": "3.10.12"
  },
  "vscode": {
   "interpreter": {
    "hash": "aee8b7b246df8f9039afb4144a1f6fd8d2ca17a180786b69acc140d282b71a49"
   }
  }
 },
 "nbformat": 4,
 "nbformat_minor": 4
}
